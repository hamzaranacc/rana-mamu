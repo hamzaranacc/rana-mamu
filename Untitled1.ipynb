{
 "cells": [
  {
   "cell_type": "code",
   "execution_count": 8,
   "metadata": {},
   "outputs": [
    {
     "name": "stdout",
     "output_type": "stream",
     "text": [
      "500\n",
      "393\n",
      "78.60000000000001\n",
      "Grade=A\n"
     ]
    }
   ],
   "source": [
    "total_marks=500\n",
    "URDU=75\n",
    "ENGLISH=75\n",
    "MATHS=88\n",
    "PHYSICS=85\n",
    "CHEMISTRY=70\n",
    "obtained_marks=URDU+ENGLISH+MATHS+PHYSICS+CHEMISTRY\n",
    "percentage=(obtained_marks/total_marks)*100\n",
    "print(total_marks)\n",
    "print(obtained_marks)\n",
    "print(percentage)\n",
    "if(percentage>80):\n",
    "    print(\"Grade=A+\");\n",
    "elif(percentage>70 and percentage<=79):\n",
    "    print(\"Grade=A\")\n",
    "\n",
    "    \n"
   ]
  },
  {
   "cell_type": "code",
   "execution_count": 9,
   "metadata": {},
   "outputs": [
    {
     "name": "stdout",
     "output_type": "stream",
     "text": [
      "Name: Muhammad Hamza Usman\n",
      "Age: 21 Years\n",
      "Gender: Male\n",
      "Height: 5'11\n",
      "Unviversity: FUUAST\n"
     ]
    }
   ],
   "source": [
    "print(\"Name: Muhammad Hamza Usman\")\n",
    "print(\"Age: 21 Years\")\n",
    "print(\"Gender: Male\")\n",
    "print(\"Height: 5'11\")\n",
    "print(\"Unviversity: FUUAST\")\n"
   ]
  },
  {
   "cell_type": "code",
   "execution_count": null,
   "metadata": {},
   "outputs": [],
   "source": []
  }
 ],
 "metadata": {
  "kernelspec": {
   "display_name": "Python 3",
   "language": "python",
   "name": "python3"
  },
  "language_info": {
   "codemirror_mode": {
    "name": "ipython",
    "version": 3
   },
   "file_extension": ".py",
   "mimetype": "text/x-python",
   "name": "python",
   "nbconvert_exporter": "python",
   "pygments_lexer": "ipython3",
   "version": "3.7.1"
  }
 },
 "nbformat": 4,
 "nbformat_minor": 2
}
